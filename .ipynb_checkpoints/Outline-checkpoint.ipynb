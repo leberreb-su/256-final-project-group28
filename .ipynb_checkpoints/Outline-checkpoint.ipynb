{
 "cells": [
  {
   "cell_type": "code",
   "execution_count": null,
   "metadata": {},
   "outputs": [],
   "source": [
    "Import pandas, json, requests, folium \n",
    "User inputs zip code\n",
    "User inputs police, hospital, or fire\n",
    "Merge the data tables (government data sets) \n",
    "loop \n",
    "Output filtered data with tables\n",
    "Mark the data on a map using folium\n",
    "Exit or search again\n",
    "\n",
    "\n",
    "TO ADD:\n",
    "Function\n",
    "Handle input errors\n",
    "\n",
    "\n",
    "TO THINK ABOUT:\n",
    "Instead of merging tables, just import all 3 tables, and call upon specific table depending on the variable (police, fire, hospital).\n",
    "\n",
    "\n",
    "DATA:\n",
    "Fire Stations: \n",
    "https://catalog.data.gov/dataset?_metadata_type_limit=0&q=%22+Fire+Stations%22\n",
    "\n",
    "Police Stations:\n",
    "https://catalog.data.gov/dataset?metadata_type=geospatial&_metadata_type_limit=0&q=%22Police%20Stations%22\n",
    "\n",
    "Hospitals:\n",
    "https://catalog.data.gov/dataset/hospitals-dcdfc\n",
    "\n",
    "    \n",
    "API’S:\n",
    "Pandas and import (used to import and put government data into tables)\n",
    "\n",
    "Folium (put the filtered data on a map)\n",
    "\n",
    "\n"
   ]
  }
 ],
 "metadata": {
  "kernelspec": {
   "display_name": "Python 3",
   "language": "python",
   "name": "python3"
  },
  "language_info": {
   "codemirror_mode": {
    "name": "ipython",
    "version": 3
   },
   "file_extension": ".py",
   "mimetype": "text/x-python",
   "name": "python",
   "nbconvert_exporter": "python",
   "pygments_lexer": "ipython3",
   "version": "3.6.3"
  }
 },
 "nbformat": 4,
 "nbformat_minor": 2
}
