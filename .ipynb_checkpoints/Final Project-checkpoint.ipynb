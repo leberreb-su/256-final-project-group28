{
 "cells": [
  {
   "cell_type": "code",
   "execution_count": null,
   "metadata": {},
   "outputs": [],
   "source": []
  },
  {
   "cell_type": "code",
   "execution_count": null,
   "metadata": {
    "scrolled": false
   },
   "outputs": [
    {
     "name": "stdout",
     "output_type": "stream",
     "text": [
      "Welcome to the emergency locator app\n",
      "Enter choice: (A for Police, B for Hospitals, C for Fire stations, and D to quit)B\n",
      "Please enter your zipcode: 33156\n"
     ]
    },
    {
     "data": {
      "text/html": [
       "<div>\n",
       "<style scoped>\n",
       "    .dataframe tbody tr th:only-of-type {\n",
       "        vertical-align: middle;\n",
       "    }\n",
       "\n",
       "    .dataframe tbody tr th {\n",
       "        vertical-align: top;\n",
       "    }\n",
       "\n",
       "    .dataframe thead th {\n",
       "        text-align: right;\n",
       "    }\n",
       "</style>\n",
       "<table border=\"1\" class=\"dataframe\">\n",
       "  <thead>\n",
       "    <tr style=\"text-align: right;\">\n",
       "      <th></th>\n",
       "      <th>X</th>\n",
       "      <th>Y</th>\n",
       "      <th>OBJECTID</th>\n",
       "      <th>ID</th>\n",
       "      <th>NAME</th>\n",
       "      <th>ADDRESS</th>\n",
       "      <th>ADDRESS2</th>\n",
       "      <th>CITY</th>\n",
       "      <th>STATE</th>\n",
       "      <th>ZIP</th>\n",
       "      <th>...</th>\n",
       "      <th>WEBSITE</th>\n",
       "      <th>STATE_ID</th>\n",
       "      <th>ALT_NAME</th>\n",
       "      <th>ST_FIPS</th>\n",
       "      <th>OWNER</th>\n",
       "      <th>TTL_STAFF</th>\n",
       "      <th>BEDS</th>\n",
       "      <th>TRAUMA</th>\n",
       "      <th>HELIPAD</th>\n",
       "      <th>DATECREATE</th>\n",
       "    </tr>\n",
       "  </thead>\n",
       "  <tbody>\n",
       "  </tbody>\n",
       "</table>\n",
       "<p>0 rows × 36 columns</p>\n",
       "</div>"
      ],
      "text/plain": [
       "Empty DataFrame\n",
       "Columns: [X, Y, OBJECTID, ID, NAME, ADDRESS, ADDRESS2, CITY, STATE, ZIP, ZIP4, TELEPHONE, TYPE, STATUS, POPULATION, COUNTY, COUNTYFIPS, COUNTRY, LATITUDE, LONGITUDE, NAICS_CODE, NAICS_DESC, SOURCE, SOURCEDATE, VAL_METHOD, VAL_DATE, WEBSITE, STATE_ID, ALT_NAME, ST_FIPS, OWNER, TTL_STAFF, BEDS, TRAUMA, HELIPAD, DATECREATE]\n",
       "Index: []\n",
       "\n",
       "[0 rows x 36 columns]"
      ]
     },
     "metadata": {},
     "output_type": "display_data"
    },
    {
     "data": {
      "text/html": [
       "<div style=\"width:100%;\"><div style=\"position:relative;width:100%;height:0;padding-bottom:60%;\"><iframe src=\"data:text/html;charset=utf-8;base64,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\" style=\"position:absolute;width:100%;height:100%;left:0;top:0;border:none !important;\" allowfullscreen webkitallowfullscreen mozallowfullscreen></iframe></div></div>"
      ],
      "text/plain": [
       "<folium.folium.Map at 0x11002fcc0>"
      ]
     },
     "metadata": {},
     "output_type": "display_data"
    }
   ],
   "source": [
    "##FINAL CODE\n",
    "\n",
    "import pandas as pd  ##pandas will be used for databases\n",
    "import requests\n",
    "import folium ##map the results\n",
    "\n",
    "print('Welcome to the emergency locator app')\n",
    "while True: ##while true loop to keep the program running until told to stop\n",
    "    choice = input(\"Enter choice: (A for Police, B for Hospitals, C for Fire stations, and D to quit)\").upper() ##choice input for the different options\n",
    "    if choice == 'D': ##the break choice was here because it needs to break before asking for zipcode if user wants to quit\n",
    "        break\n",
    "    location = int(input(\"Please enter your zipcode: \")) ##location input for zipcode\n",
    "    if choice == 'A':\n",
    "        dtype={'ZIP': object}\n",
    "        police = pd.read_csv('police_station.csv') ##reads the csv file \n",
    "        display(police[police ['ZIP'] == location ]) ##displays the csv file after it has been filtered by locationinput\n",
    "        info = pd.read_csv('police_station.csv') ##map reads the csv file\n",
    "        info = (police[police ['ZIP'] == location ]) ##map will plot by filtering through ZIP \n",
    "\n",
    "        CENTER_US = (39.8333333,-98.585522) ##these 2 lines plot a map and start at the U.S.\n",
    "        map = folium.Map(location=CENTER_US, zoom_start=4)\n",
    "        for row in info.to_records(): \n",
    "            pos = (row['Y'],row['X']) ##Y and X are the longitude and latitude for the map positioning\n",
    "            message = \"%s, Phone: %s, Address: %s %s\" % (row['NAME'],row['TELEPHONE'], row['ADDRESS'], row['CITY']) ##the makers on the map will display information\n",
    "            marker = folium.Marker(location=pos,  ##markers for locations\n",
    "                            popup=message\n",
    "                                    )\n",
    "            map.add_children(marker)\n",
    "        map\n",
    "        display(map) ##displays the map\n",
    "    elif choice == 'B':\n",
    "        dtype={'ZIP': object}\n",
    "        hospitals = pd.read_csv('hospitals.csv')\n",
    "        display(hospitals[hospitals ['ZIP'] == location ])\n",
    "        info = pd.read_csv('hospitals.csv')\n",
    "        info = (hospitals[hospitals ['ZIP'] == location ])\n",
    "\n",
    "        CENTER_US = (39.8333333,-98.585522)\n",
    "        map = folium.Map(location=CENTER_US, zoom_start=4)\n",
    "        for row in info.to_records():\n",
    "            pos = (row['Y'],row['X'])\n",
    "            message = \"%s, Phone: %s, Address: %s %s\" % (row['NAME'],row['TELEPHONE'], row['ADDRESS'], row['CITY'])\n",
    "            marker = folium.Marker(location=pos, \n",
    "                            popup=message\n",
    "                                    )\n",
    "            map.add_children(marker)\n",
    "        map\n",
    "        display(map)\n",
    "    elif choice == 'C':\n",
    "        dtype={'ZIP': object}\n",
    "        fire = pd.read_csv('fire_stations.csv')\n",
    "        display(fire[fire ['ZIP'] == location ])\n",
    "        info = pd.read_csv('fire_stations.csv')\n",
    "        info = (fire[fire ['ZIP'] == location ])\n",
    "\n",
    "        CENTER_US = (39.8333333,-98.585522)\n",
    "        map = folium.Map(location=CENTER_US, zoom_start=4)\n",
    "        for row in info.to_records():\n",
    "            pos = (row['Y'],row['X'])\n",
    "            message = \"%s, Phone: %s, Address: %s %s\" % (row['NAME'],row['TELEPHONE'], row['ADDRESS'], row['CITY'])\n",
    "            marker = folium.Marker(location=pos, \n",
    "                            popup=message\n",
    "                                    )\n",
    "            map.add_children(marker)\n",
    "        map\n",
    "        display(map)\n",
    "    else: ## the else statement will display an error if the choice is not A, B, C or D\n",
    "        print('ERROR:', choice,'is not a menu option')   "
   ]
  },
  {
   "cell_type": "code",
   "execution_count": null,
   "metadata": {},
   "outputs": [],
   "source": []
  }
 ],
 "metadata": {
  "kernelspec": {
   "display_name": "Python 3",
   "language": "python",
   "name": "python3"
  }
 },
 "nbformat": 4,
 "nbformat_minor": 2
}
