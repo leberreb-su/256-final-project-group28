{
 "cells": [
  {
   "cell_type": "code",
   "execution_count": null,
   "metadata": {},
   "outputs": [],
   "source": [
    "Import pandas, json, requests, folium \n",
    "User inputs zip code\n",
    "User inputs police, hospital, or fire\n",
    "Merge the data tables (government data sets) \n",
    "loop \n",
    "Output filtered data with tables\n",
    "Mark the data on a map using folium\n",
    "Exit or search again\n",
    "\n",
    "\n",
    "TO ADD:\n",
    "Function\n",
    "Handle input errors\n",
    "\n",
    "\n",
    "TO THINK ABOUT:\n",
    "Instead of merging tables, just import all 3 tables, and call upon specific table depending on the variable (police, fire, hospital).\n",
    "\n",
    "\n",
    "DATA:\n",
    "Fire Stations: \n",
    "https://catalog.data.gov/dataset?_metadata_type_limit=0&q=%22+Fire+Stations%22\n",
    "\n",
    "Police Stations:\n",
    "https://catalog.data.gov/dataset?metadata_type=geospatial&_metadata_type_limit=0&q=%22Police%20Stations%22\n",
    "\n",
    "Hospitals:\n",
    "https://catalog.data.gov/dataset/hospitals-dcdfc\n",
    "\n",
    "    \n",
    "API’S:\n",
    "Pandas and import (used to import and put government data into tables)\n",
    "\n",
    "Folium (put the filtered data on a map)\n",
    "\n",
    "\n"
   ]
  },
  {
   "cell_type": "code",
   "execution_count": null,
   "metadata": {},
   "outputs": [],
   "source": [
    "##FIRST BASIC PROGRAM TO READ CSV FILES\n",
    "import requests, folium\n",
    "import pandas as pd\n",
    "\n",
    "s = 'Welcome to the emergency locator app'\n",
    "print(s)\n",
    "service = input(\"Please enter the service you require ('fire', 'police', or 'hospital')\")\n",
    "zipcode = int(input(\"Please enter your zipcode\"))\n",
    "dtype={'ZIP': object}\n",
    "hospitals = pd.read_csv('emergency.csv')\n",
    "fire = pd.read_csv('fire_stations.csv')\n",
    "police = pd.read_csv('police_station.csv')\n"
   ]
  },
  {
   "cell_type": "code",
   "execution_count": null,
   "metadata": {},
   "outputs": [],
   "source": [
    "##THIS PROGRAM FILTERS OUR RESULTS\n",
    "\n",
    "\"\"\"\n",
    "import pandas as pd\n",
    "import numpy as np\n",
    "hospitals = pd.read_csv('emergency.csv')\n",
    "hospitals['CITY'].value_counts()\n",
    "\"\"\"\n",
    "\n",
    "\n",
    "import pandas as pd\n",
    "import numpy as np\n",
    "dtype={'ZIP': object}\n",
    "hospitals = pd.read_csv('emergency.csv')\n",
    "display(hospitals[hospitals ['ZIP'] == 33156 ])"
   ]
  },
  {
   "cell_type": "code",
   "execution_count": null,
   "metadata": {},
   "outputs": [],
   "source": [
    "##MAP TEST\n",
    "\n",
    "import cufflinks as cf\n",
    "import pandas as pd\n",
    "import folium\n",
    "import warnings\n",
    "#matplotlib.rcParams['figure.figsize'] = (20.0, 10.0) # larger figure size\n",
    "warnings.filterwarnings('ignore')\n",
    "\n",
    "goers = pd.read_csv('emergency.csv')\n",
    "goers = (hospitals[hospitals ['ZIP'] == 33156 ])\n",
    "\n",
    "CENTER_US = (39.8333333,-98.585522)\n",
    "map = folium.Map(location=CENTER_US, zoom_start=4)\n",
    "for row in goers.to_records():\n",
    "    pos = (row['Y'],row['X'])\n",
    "    message = \"%s, Phone: %s, Address: %s %s\" % (row['NAME'],row['TELEPHONE'], row['ADDRESS'], row['CITY'])\n",
    "    marker = folium.Marker(location=pos, \n",
    "                    popup=message\n",
    "\n",
    "                          )\n",
    "    map.add_children(marker)\n",
    "map"
   ]
  }
 ],
 "metadata": {
  "kernelspec": {
   "display_name": "Python 3",
   "language": "python",
   "name": "python3"
  },
  "language_info": {
   "codemirror_mode": {
    "name": "ipython",
    "version": 3
   },
   "file_extension": ".py",
   "mimetype": "text/x-python",
   "name": "python",
   "nbconvert_exporter": "python",
   "pygments_lexer": "ipython3",
   "version": "3.6.3"
  }
 },
 "nbformat": 4,
 "nbformat_minor": 2
}
