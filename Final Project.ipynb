{
 "cells": [
  {
   "cell_type": "code",
   "execution_count": 2,
   "metadata": {
    "scrolled": false
   },
   "outputs": [
    {
     "name": "stdout",
     "output_type": "stream",
     "text": [
      "Welcome to the emergency locator app\n",
      "Enter choice: (A for Police, B for Hospitals, C for Fire stations, and D to quit)hello\n",
      "Please enter your zipcode: hello\n"
     ]
    },
    {
     "ename": "ValueError",
     "evalue": "invalid literal for int() with base 10: 'hello'",
     "output_type": "error",
     "traceback": [
      "\u001b[0;31m---------------------------------------------------------------------------\u001b[0m",
      "\u001b[0;31mValueError\u001b[0m                                Traceback (most recent call last)",
      "\u001b[0;32m<ipython-input-2-8b154f056791>\u001b[0m in \u001b[0;36m<module>\u001b[0;34m()\u001b[0m\n\u001b[1;32m     12\u001b[0m     \u001b[0;32mif\u001b[0m \u001b[0mchoice\u001b[0m \u001b[0;34m==\u001b[0m \u001b[0;34m'D'\u001b[0m\u001b[0;34m:\u001b[0m \u001b[0;31m##the break choice was here because it needs to break before asking for zipcode if user wants to quit\u001b[0m\u001b[0;34m\u001b[0m\u001b[0m\n\u001b[1;32m     13\u001b[0m         \u001b[0;32mbreak\u001b[0m\u001b[0;34m\u001b[0m\u001b[0m\n\u001b[0;32m---> 14\u001b[0;31m     \u001b[0mlocation\u001b[0m \u001b[0;34m=\u001b[0m \u001b[0mint\u001b[0m\u001b[0;34m(\u001b[0m\u001b[0minput\u001b[0m\u001b[0;34m(\u001b[0m\u001b[0;34m\"Please enter your zipcode: \"\u001b[0m\u001b[0;34m)\u001b[0m\u001b[0;34m)\u001b[0m \u001b[0;31m##location input for zipcode\u001b[0m\u001b[0;34m\u001b[0m\u001b[0m\n\u001b[0m\u001b[1;32m     15\u001b[0m     \u001b[0;32mif\u001b[0m \u001b[0mchoice\u001b[0m \u001b[0;34m==\u001b[0m \u001b[0;34m'A'\u001b[0m\u001b[0;34m:\u001b[0m\u001b[0;34m\u001b[0m\u001b[0m\n\u001b[1;32m     16\u001b[0m         \u001b[0mdtype\u001b[0m\u001b[0;34m=\u001b[0m\u001b[0;34m{\u001b[0m\u001b[0;34m'ZIP'\u001b[0m\u001b[0;34m:\u001b[0m \u001b[0mobject\u001b[0m\u001b[0;34m}\u001b[0m\u001b[0;34m\u001b[0m\u001b[0m\n",
      "\u001b[0;31mValueError\u001b[0m: invalid literal for int() with base 10: 'hello'"
     ]
    }
   ],
   "source": [
    "##FINAL CODE\n",
    "\n",
    "import pandas as pd  ##pandas will be used for databases\n",
    "import numpy as np\n",
    "import requests\n",
    "import folium ##map the results\n",
    "\n",
    "print('Welcome to the emergency locator app')\n",
    "while True: ##while true loop to keep the program running until told to stop\n",
    "    choice = input(\"Enter choice: (A for Police, B for Hospitals, C for Fire stations, and D to quit)\").upper() ##choice input for the different options\n",
    "    if choice == 'D': ##the break choice was here because it needs to break before asking for zipcode if user wants to quit\n",
    "        break\n",
    "    location = int(input(\"Please enter your zipcode: \")) ##location input for zipcode\n",
    "    if choice == 'A':\n",
    "        dtype={'ZIP': object}\n",
    "        police = pd.read_csv('police_station.csv') ##reads the csv file \n",
    "        display(police[police ['ZIP'] == location ]) ##displays the csv file after it has been filtered by locationinput\n",
    "        goers = pd.read_csv('police_station.csv') ##map reads the csv file\n",
    "        goers = (police[police ['ZIP'] == location ]) ##map will plot by filtering through ZIP \n",
    "\n",
    "        CENTER_US = (39.8333333,-98.585522) ##these 2 lines plot a map and start at the U.S.\n",
    "        map = folium.Map(location=CENTER_US, zoom_start=4)\n",
    "        for row in goers.to_records(): \n",
    "            pos = (row['Y'],row['X']) ##Y and X are the longitude and latitude for the map positioning\n",
    "            message = \"%s, Phone: %s, Address: %s %s\" % (row['NAME'],row['TELEPHONE'], row['ADDRESS'], row['CITY']) ##the makers on the map will display information\n",
    "            marker = folium.Marker(location=pos,  ##markers for locations\n",
    "                            popup=message\n",
    "                                    )\n",
    "            map.add_children(marker)\n",
    "        map\n",
    "        display(map) ##displays the map\n",
    "    elif choice == 'B':\n",
    "        dtype={'ZIP': object}\n",
    "        hospitals = pd.read_csv('emergency.csv')\n",
    "        display(hospitals[hospitals ['ZIP'] == location ])\n",
    "        goers = pd.read_csv('emergency.csv')\n",
    "        goers = (hospitals[hospitals ['ZIP'] == location ])\n",
    "\n",
    "        CENTER_US = (39.8333333,-98.585522)\n",
    "        map = folium.Map(location=CENTER_US, zoom_start=4)\n",
    "        for row in goers.to_records():\n",
    "            pos = (row['Y'],row['X'])\n",
    "            message = \"%s, Phone: %s, Address: %s %s\" % (row['NAME'],row['TELEPHONE'], row['ADDRESS'], row['CITY'])\n",
    "            marker = folium.Marker(location=pos, \n",
    "                            popup=message\n",
    "                                    )\n",
    "            map.add_children(marker)\n",
    "        map\n",
    "        display(map)\n",
    "    elif choice == 'C':\n",
    "        dtype={'ZIP': object}\n",
    "        fire = pd.read_csv('fire_stations.csv')\n",
    "        display(fire[fire ['ZIP'] == location ])\n",
    "        goers = pd.read_csv('fire_stations.csv')\n",
    "        goers = (fire[fire ['ZIP'] == location ])\n",
    "\n",
    "        CENTER_US = (39.8333333,-98.585522)\n",
    "        map = folium.Map(location=CENTER_US, zoom_start=4)\n",
    "        for row in goers.to_records():\n",
    "            pos = (row['Y'],row['X'])\n",
    "            message = \"%s, Phone: %s, Address: %s %s\" % (row['NAME'],row['TELEPHONE'], row['ADDRESS'], row['CITY'])\n",
    "            marker = folium.Marker(location=pos, \n",
    "                            popup=message\n",
    "                                    )\n",
    "            map.add_children(marker)\n",
    "        map\n",
    "        display(map)\n",
    "    else:\n",
    "        print('ERROR:', choice,'is not a menu option')   "
   ]
  },
  {
   "cell_type": "code",
   "execution_count": null,
   "metadata": {},
   "outputs": [],
   "source": []
  }
 ],
 "metadata": {
  "kernelspec": {
   "display_name": "Python 3",
   "language": "python",
   "name": "python3"
  },
  "language_info": {
   "codemirror_mode": {
    "name": "ipython",
    "version": 3
   },
   "file_extension": ".py",
   "mimetype": "text/x-python",
   "name": "python",
   "nbconvert_exporter": "python",
   "pygments_lexer": "ipython3",
   "version": "3.6.3"
  }
 },
 "nbformat": 4,
 "nbformat_minor": 2
}
